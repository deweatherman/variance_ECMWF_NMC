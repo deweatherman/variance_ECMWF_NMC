{
 "cells": [
  {
   "cell_type": "markdown",
   "id": "cb212cfd",
   "metadata": {},
   "source": [
    "# Downloading MARS data using ECMWF's Python API\n",
    "\n",
    "In this short Notebook I show the steps to download data from ECMWF, when you have an account (different types of accounts will allow you different levels of access). In particular I access the MARS archive for operational forecasts.\n",
    "\n",
    "- Information about the ECMWF Web API can be found [here](https://www.ecmwf.int/en/computing/software/ecmwf-web-api)\n",
    "- Steps needed to setup your account for accessing the MARS catalogue via the ECMWF's Web API can be found on the [Access MARS page](https://confluence.ecmwf.int/display/WEBAPI/Access+MARS)"
   ]
  },
  {
   "cell_type": "markdown",
   "id": "28c91e7b",
   "metadata": {},
   "source": [
    "Once you have setup your account, installed the API library and have an ECMWF key (All needed instructions can be found [here](https://confluence.ecmwf.int/display/WEBAPI/Access+MARS)), you can simply instantiate an ECMWFService that will handle your data requests as follows:"
   ]
  },
  {
   "cell_type": "code",
   "execution_count": null,
   "id": "ef73d008",
   "metadata": {},
   "outputs": [],
   "source": [
    "from ecmwfapi import ECMWFService\n",
    "  \n",
    "\n",
    "server =  ECMWFService(\"mars\",\n",
    "                       url=\"https://api.ecmwf.int/v1\",\n",
    "                        key=\"yourECMWF_key\",\n",
    "                        email=\"yourUserName@yourDomain.com\")"
   ]
  },
  {
   "cell_type": "code",
   "execution_count": null,
   "id": "9c21568e",
   "metadata": {},
   "outputs": [],
   "source": [
    "# Define some directories for simplicity:\n",
    "era5_dir = '/your/directory'\n",
    "datasets_dir = '/datasets'\n"
   ]
  },
  {
   "cell_type": "code",
   "execution_count": null,
   "id": "bff12dfe",
   "metadata": {},
   "outputs": [],
   "source": [
    "# We will get data from operational model (MARS) from 1st January 1st to 1st July, 2015\n",
    "\n",
    "year = '2015'\n",
    "dates = year+'-01-01/'+year+'-01-02/'+year+'-01-15/'+year+'-01-16/'+ \\\n",
    "        year+'-02-01/'+year+'-02-02/'+year+'-02-15/'+year+'-02-16/'+ \\\n",
    "        year+'-03-01/'+year+'-03-02/'+year+'-03-15/'+year+'-03-16/'+ \\\n",
    "        year+'-04-01/'+year+'-04-02/'+year+'-04-15/'+year+'-04-16/'+ \\\n",
    "        year+'-05-01/'+year+'-05-02/'+year+'-05-15/'+year+'-05-16/'+ \\\n",
    "        year+'-06-01/'+year+'-06-02/'+year+'-06-15/'+year+'-06-16/'+ \\\n",
    "        year+'-07-01/'+year+'-07-02/'+year+'-07-15/'+year+'-07-16' #+ \\\n",
    "\n",
    "\n",
    "# If the user only needs specific lat,lon areas, it is possible to define like follows (we will not use this here):\n",
    "\n",
    "#areas = ['-40/-180/-90/180',\n",
    "#        '0/-180/-40/180',\n",
    "#        '40/-180/0/180',\n",
    "#        '90/-180/40/180']\n",
    "#areasName = ['LC','LMC','UMC','UC']"
   ]
  },
  {
   "cell_type": "markdown",
   "id": "b982cd83",
   "metadata": {},
   "source": [
    "Now we build the MARS request; this request has in practice the same structure as old-times MARS requests. The easiest way to create this request is to check the archive of your interest as [for example](https://apps.ecmwf.int/archive-catalogue/?class=od)\n",
    "\n",
    "Once there, select your desired options and in the final page you will get the option to visualize your request as a MARS request.\n",
    "\n",
    "Notice that we want to retrieve both profiles (defined on pressure/model levels) and surface data (single scalar defined at \"surface\" level, either 10m or 2m height, etc.).\n",
    "\n",
    "First we retrieve the profile-like data (notice the levelist parameter in the request):"
   ]
  },
  {
   "cell_type": "code",
   "execution_count": null,
   "id": "baa5d96b",
   "metadata": {},
   "outputs": [],
   "source": [
    "#for area in areas # Not used in this Notebook.\n",
    "\n",
    "server.execute( \n",
    "        {\n",
    "        'class': 'od',\n",
    "        'date': dates,\n",
    "        'expver': '1',\n",
    "        'levelist': '1/2/3/5/7/10/20/30/50/70/100/150/200/250/300/400/500/600/700/800/850/900/925/950/1000', #Pressure levels 25\n",
    "        'levtype': 'pl',\n",
    "        'param': '130.128/133.128', # Temp and specific hum.\n",
    "        'step': '12/36',   \n",
    "        'stream': 'oper',\n",
    "        'time': '00:00:00/12:00:00',\n",
    "        'type': 'fc',\n",
    "        'grid': '0.25/0.25', # 'N320', #\n",
    "        #'area': area,\n",
    "    }, era5_dir+datasets_dir+'/profiles_'+year+'.grib')\n"
   ]
  },
  {
   "cell_type": "markdown",
   "id": "d5078161",
   "metadata": {},
   "source": [
    "We can reuse the same instance of our server to retrieve now surface parameters (levtype: 'sfc'):"
   ]
  },
  {
   "cell_type": "code",
   "execution_count": null,
   "id": "2fdc0f55",
   "metadata": {},
   "outputs": [],
   "source": [
    "i=0\n",
    "#for area in areas:\n",
    "server.execute( \n",
    "        {    \n",
    "        'class': 'od',    \n",
    "        'date': dates,\n",
    "        'expver': '1',\n",
    "        'levtype': 'sfc',\n",
    "        'param': '131.228/132.228/134.128/167.128/172.128/235.128', # u10n, v10n,surfP, 2mT, LandSeamask, SkinTemp  \n",
    "        'step': '12/36',    \n",
    "        'stream': 'oper',\n",
    "        'time': '00:00:00/12:00:00',    \n",
    "        'type': 'fc',\n",
    "        'grid': '0.25/0.25', # 'N320', #\n",
    "        #'area': area,\n",
    "    }, era5_dir+datasets_dir+'/surface_'+year+'.grib') \n",
    "\n",
    "\n"
   ]
  },
  {
   "cell_type": "code",
   "execution_count": null,
   "id": "c17813fe",
   "metadata": {},
   "outputs": [],
   "source": []
  }
 ],
 "metadata": {
  "kernelspec": {
   "display_name": "Python 3 (ipykernel)",
   "language": "python",
   "name": "python3"
  },
  "language_info": {
   "codemirror_mode": {
    "name": "ipython",
    "version": 3
   },
   "file_extension": ".py",
   "mimetype": "text/x-python",
   "name": "python",
   "nbconvert_exporter": "python",
   "pygments_lexer": "ipython3",
   "version": "3.7.13"
  }
 },
 "nbformat": 4,
 "nbformat_minor": 5
}
